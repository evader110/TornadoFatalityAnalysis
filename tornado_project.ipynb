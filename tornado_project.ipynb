{
  "nbformat": 4,
  "nbformat_minor": 0,
  "metadata": {
    "colab": {
      "provenance": []
    },
    "kernelspec": {
      "name": "python3",
      "display_name": "Python 3"
    },
    "language_info": {
      "name": "python"
    }
  },
  "cells": [
    {
      "cell_type": "markdown",
      "source": [
        "# Tornado Analysis and Prediction"
      ],
      "metadata": {
        "id": "zuSjcgg68Wjh"
      }
    },
    {
      "cell_type": "markdown",
      "source": [
        "Imported from [this dataset](https://www.kaggle.com/datasets/danbraswell/us-tornado-dataset-1950-2021), in this project we will look at the history of tornadoes from 1950 and perform some analytical modeling techniques to predict the severity and outcome of a given tornado."
      ],
      "metadata": {
        "id": "jsxSMiqb8kBn"
      }
    },
    {
      "cell_type": "markdown",
      "source": [
        "# Part 1: Data Preprocessing and Exploration"
      ],
      "metadata": {
        "id": "8KlNySVE0yUb"
      }
    },
    {
      "cell_type": "code",
      "execution_count": 93,
      "metadata": {
        "id": "Yc-aDPa7xTq4"
      },
      "outputs": [],
      "source": [
        "# Import needed libraries\n",
        "import pandas as pd\n",
        "import seaborn as sns\n",
        "import matplotlib.pyplot as plt"
      ]
    },
    {
      "cell_type": "code",
      "source": [
        "# Read in the data and rename some of the columns for readability\n",
        "df = pd.read_csv(\"us_tornado_dataset_1950_2021.csv\")\n",
        "df = df.rename(columns={'yr':'year',\n",
        "                        'mo':'month',\n",
        "                        'dy':'day',\n",
        "                        'st':'state',\n",
        "                        'mag':'magnitude',\n",
        "                        'inj':'injuries',\n",
        "                        'fat':'fatalities'})"
      ],
      "metadata": {
        "id": "kf63uSekzOpP"
      },
      "execution_count": 84,
      "outputs": []
    },
    {
      "cell_type": "markdown",
      "source": [
        "Let's get a quick look at the data"
      ],
      "metadata": {
        "id": "qZiXYluIBxpb"
      }
    },
    {
      "cell_type": "code",
      "source": [
        "df.head()"
      ],
      "metadata": {
        "id": "q8D2wPwpz2pD",
        "colab": {
          "base_uri": "https://localhost:8080/",
          "height": 206
        },
        "outputId": "f1776076-837a-4d10-fecb-19559d903027"
      },
      "execution_count": 85,
      "outputs": [
        {
          "output_type": "execute_result",
          "data": {
            "text/plain": [
              "   year  month  day        date state  magnitude  injuries  fatalities   slat  \\\n",
              "0  1950      1    3  1950-01-03    IL          3         3           0  39.10   \n",
              "1  1950      1    3  1950-01-03    MO          3         3           0  38.77   \n",
              "2  1950      1    3  1950-01-03    OH          1         1           0  40.88   \n",
              "3  1950      1   13  1950-01-13    AR          3         1           1  34.40   \n",
              "4  1950      1   25  1950-01-25    IL          2         0           0  41.17   \n",
              "\n",
              "    slon   elat   elon  len  wid  \n",
              "0 -89.30  39.12 -89.23  3.6  130  \n",
              "1 -90.22  38.83 -90.03  9.5  150  \n",
              "2 -84.58   0.00   0.00  0.1   10  \n",
              "3 -94.37   0.00   0.00  0.6   17  \n",
              "4 -87.33   0.00   0.00  0.1  100  "
            ],
            "text/html": [
              "\n",
              "  <div id=\"df-b5c23dbf-2767-4eb4-ae28-a917812a38a9\">\n",
              "    <div class=\"colab-df-container\">\n",
              "      <div>\n",
              "<style scoped>\n",
              "    .dataframe tbody tr th:only-of-type {\n",
              "        vertical-align: middle;\n",
              "    }\n",
              "\n",
              "    .dataframe tbody tr th {\n",
              "        vertical-align: top;\n",
              "    }\n",
              "\n",
              "    .dataframe thead th {\n",
              "        text-align: right;\n",
              "    }\n",
              "</style>\n",
              "<table border=\"1\" class=\"dataframe\">\n",
              "  <thead>\n",
              "    <tr style=\"text-align: right;\">\n",
              "      <th></th>\n",
              "      <th>year</th>\n",
              "      <th>month</th>\n",
              "      <th>day</th>\n",
              "      <th>date</th>\n",
              "      <th>state</th>\n",
              "      <th>magnitude</th>\n",
              "      <th>injuries</th>\n",
              "      <th>fatalities</th>\n",
              "      <th>slat</th>\n",
              "      <th>slon</th>\n",
              "      <th>elat</th>\n",
              "      <th>elon</th>\n",
              "      <th>len</th>\n",
              "      <th>wid</th>\n",
              "    </tr>\n",
              "  </thead>\n",
              "  <tbody>\n",
              "    <tr>\n",
              "      <th>0</th>\n",
              "      <td>1950</td>\n",
              "      <td>1</td>\n",
              "      <td>3</td>\n",
              "      <td>1950-01-03</td>\n",
              "      <td>IL</td>\n",
              "      <td>3</td>\n",
              "      <td>3</td>\n",
              "      <td>0</td>\n",
              "      <td>39.10</td>\n",
              "      <td>-89.30</td>\n",
              "      <td>39.12</td>\n",
              "      <td>-89.23</td>\n",
              "      <td>3.6</td>\n",
              "      <td>130</td>\n",
              "    </tr>\n",
              "    <tr>\n",
              "      <th>1</th>\n",
              "      <td>1950</td>\n",
              "      <td>1</td>\n",
              "      <td>3</td>\n",
              "      <td>1950-01-03</td>\n",
              "      <td>MO</td>\n",
              "      <td>3</td>\n",
              "      <td>3</td>\n",
              "      <td>0</td>\n",
              "      <td>38.77</td>\n",
              "      <td>-90.22</td>\n",
              "      <td>38.83</td>\n",
              "      <td>-90.03</td>\n",
              "      <td>9.5</td>\n",
              "      <td>150</td>\n",
              "    </tr>\n",
              "    <tr>\n",
              "      <th>2</th>\n",
              "      <td>1950</td>\n",
              "      <td>1</td>\n",
              "      <td>3</td>\n",
              "      <td>1950-01-03</td>\n",
              "      <td>OH</td>\n",
              "      <td>1</td>\n",
              "      <td>1</td>\n",
              "      <td>0</td>\n",
              "      <td>40.88</td>\n",
              "      <td>-84.58</td>\n",
              "      <td>0.00</td>\n",
              "      <td>0.00</td>\n",
              "      <td>0.1</td>\n",
              "      <td>10</td>\n",
              "    </tr>\n",
              "    <tr>\n",
              "      <th>3</th>\n",
              "      <td>1950</td>\n",
              "      <td>1</td>\n",
              "      <td>13</td>\n",
              "      <td>1950-01-13</td>\n",
              "      <td>AR</td>\n",
              "      <td>3</td>\n",
              "      <td>1</td>\n",
              "      <td>1</td>\n",
              "      <td>34.40</td>\n",
              "      <td>-94.37</td>\n",
              "      <td>0.00</td>\n",
              "      <td>0.00</td>\n",
              "      <td>0.6</td>\n",
              "      <td>17</td>\n",
              "    </tr>\n",
              "    <tr>\n",
              "      <th>4</th>\n",
              "      <td>1950</td>\n",
              "      <td>1</td>\n",
              "      <td>25</td>\n",
              "      <td>1950-01-25</td>\n",
              "      <td>IL</td>\n",
              "      <td>2</td>\n",
              "      <td>0</td>\n",
              "      <td>0</td>\n",
              "      <td>41.17</td>\n",
              "      <td>-87.33</td>\n",
              "      <td>0.00</td>\n",
              "      <td>0.00</td>\n",
              "      <td>0.1</td>\n",
              "      <td>100</td>\n",
              "    </tr>\n",
              "  </tbody>\n",
              "</table>\n",
              "</div>\n",
              "      <button class=\"colab-df-convert\" onclick=\"convertToInteractive('df-b5c23dbf-2767-4eb4-ae28-a917812a38a9')\"\n",
              "              title=\"Convert this dataframe to an interactive table.\"\n",
              "              style=\"display:none;\">\n",
              "        \n",
              "  <svg xmlns=\"http://www.w3.org/2000/svg\" height=\"24px\"viewBox=\"0 0 24 24\"\n",
              "       width=\"24px\">\n",
              "    <path d=\"M0 0h24v24H0V0z\" fill=\"none\"/>\n",
              "    <path d=\"M18.56 5.44l.94 2.06.94-2.06 2.06-.94-2.06-.94-.94-2.06-.94 2.06-2.06.94zm-11 1L8.5 8.5l.94-2.06 2.06-.94-2.06-.94L8.5 2.5l-.94 2.06-2.06.94zm10 10l.94 2.06.94-2.06 2.06-.94-2.06-.94-.94-2.06-.94 2.06-2.06.94z\"/><path d=\"M17.41 7.96l-1.37-1.37c-.4-.4-.92-.59-1.43-.59-.52 0-1.04.2-1.43.59L10.3 9.45l-7.72 7.72c-.78.78-.78 2.05 0 2.83L4 21.41c.39.39.9.59 1.41.59.51 0 1.02-.2 1.41-.59l7.78-7.78 2.81-2.81c.8-.78.8-2.07 0-2.86zM5.41 20L4 18.59l7.72-7.72 1.47 1.35L5.41 20z\"/>\n",
              "  </svg>\n",
              "      </button>\n",
              "      \n",
              "  <style>\n",
              "    .colab-df-container {\n",
              "      display:flex;\n",
              "      flex-wrap:wrap;\n",
              "      gap: 12px;\n",
              "    }\n",
              "\n",
              "    .colab-df-convert {\n",
              "      background-color: #E8F0FE;\n",
              "      border: none;\n",
              "      border-radius: 50%;\n",
              "      cursor: pointer;\n",
              "      display: none;\n",
              "      fill: #1967D2;\n",
              "      height: 32px;\n",
              "      padding: 0 0 0 0;\n",
              "      width: 32px;\n",
              "    }\n",
              "\n",
              "    .colab-df-convert:hover {\n",
              "      background-color: #E2EBFA;\n",
              "      box-shadow: 0px 1px 2px rgba(60, 64, 67, 0.3), 0px 1px 3px 1px rgba(60, 64, 67, 0.15);\n",
              "      fill: #174EA6;\n",
              "    }\n",
              "\n",
              "    [theme=dark] .colab-df-convert {\n",
              "      background-color: #3B4455;\n",
              "      fill: #D2E3FC;\n",
              "    }\n",
              "\n",
              "    [theme=dark] .colab-df-convert:hover {\n",
              "      background-color: #434B5C;\n",
              "      box-shadow: 0px 1px 3px 1px rgba(0, 0, 0, 0.15);\n",
              "      filter: drop-shadow(0px 1px 2px rgba(0, 0, 0, 0.3));\n",
              "      fill: #FFFFFF;\n",
              "    }\n",
              "  </style>\n",
              "\n",
              "      <script>\n",
              "        const buttonEl =\n",
              "          document.querySelector('#df-b5c23dbf-2767-4eb4-ae28-a917812a38a9 button.colab-df-convert');\n",
              "        buttonEl.style.display =\n",
              "          google.colab.kernel.accessAllowed ? 'block' : 'none';\n",
              "\n",
              "        async function convertToInteractive(key) {\n",
              "          const element = document.querySelector('#df-b5c23dbf-2767-4eb4-ae28-a917812a38a9');\n",
              "          const dataTable =\n",
              "            await google.colab.kernel.invokeFunction('convertToInteractive',\n",
              "                                                     [key], {});\n",
              "          if (!dataTable) return;\n",
              "\n",
              "          const docLinkHtml = 'Like what you see? Visit the ' +\n",
              "            '<a target=\"_blank\" href=https://colab.research.google.com/notebooks/data_table.ipynb>data table notebook</a>'\n",
              "            + ' to learn more about interactive tables.';\n",
              "          element.innerHTML = '';\n",
              "          dataTable['output_type'] = 'display_data';\n",
              "          await google.colab.output.renderOutput(dataTable, element);\n",
              "          const docLink = document.createElement('div');\n",
              "          docLink.innerHTML = docLinkHtml;\n",
              "          element.appendChild(docLink);\n",
              "        }\n",
              "      </script>\n",
              "    </div>\n",
              "  </div>\n",
              "  "
            ]
          },
          "metadata": {},
          "execution_count": 85
        }
      ]
    },
    {
      "cell_type": "code",
      "source": [
        "df.describe()"
      ],
      "metadata": {
        "colab": {
          "base_uri": "https://localhost:8080/",
          "height": 300
        },
        "id": "Lvdk7SAT1UN2",
        "outputId": "7067558f-51b6-4913-c93a-589d329ec6be"
      },
      "execution_count": 42,
      "outputs": [
        {
          "output_type": "execute_result",
          "data": {
            "text/plain": [
              "               year         month           day     magnitude      injuries  \\\n",
              "count  67558.000000  67558.000000  67558.000000  67558.000000  67558.000000   \n",
              "mean    1991.341618      5.976761     15.921016      0.691273      1.437876   \n",
              "std       19.330015      2.438192      8.736773      1.283375     18.263956   \n",
              "min     1950.000000      1.000000      1.000000     -9.000000      0.000000   \n",
              "25%     1976.000000      4.000000      8.000000      0.000000      0.000000   \n",
              "50%     1994.000000      6.000000     16.000000      1.000000      0.000000   \n",
              "75%     2008.000000      7.000000     24.000000      1.000000      0.000000   \n",
              "max     2021.000000     12.000000     31.000000      5.000000   1740.000000   \n",
              "\n",
              "         fatalities          slat          slon          elat          elon  \\\n",
              "count  67558.000000  67558.000000  67558.000000  67558.000000  67558.000000   \n",
              "mean       0.090470     37.142412    -92.784618     22.730695    -56.245590   \n",
              "std        1.484106      5.093979      8.689103     18.588638     45.489157   \n",
              "min        0.000000     17.721200   -163.530000      0.000000   -163.530000   \n",
              "25%        0.000000     33.220000    -98.450000      0.000000    -94.709800   \n",
              "50%        0.000000     37.030000    -93.600000     32.480000    -84.420000   \n",
              "75%        0.000000     40.930000    -86.730000     38.610000      0.000000   \n",
              "max      158.000000     61.020000    -64.715100     61.020000      0.000000   \n",
              "\n",
              "                len           wid  \n",
              "count  67558.000000  67558.000000  \n",
              "mean       3.478340    106.577030  \n",
              "std        8.278775    205.802676  \n",
              "min        0.000000      0.000000  \n",
              "25%        0.100000     20.000000  \n",
              "50%        0.800000     50.000000  \n",
              "75%        3.130000    100.000000  \n",
              "max      234.700000   4576.000000  "
            ],
            "text/html": [
              "\n",
              "  <div id=\"df-8fd26578-d015-431d-b74b-ba8c5ade41f8\">\n",
              "    <div class=\"colab-df-container\">\n",
              "      <div>\n",
              "<style scoped>\n",
              "    .dataframe tbody tr th:only-of-type {\n",
              "        vertical-align: middle;\n",
              "    }\n",
              "\n",
              "    .dataframe tbody tr th {\n",
              "        vertical-align: top;\n",
              "    }\n",
              "\n",
              "    .dataframe thead th {\n",
              "        text-align: right;\n",
              "    }\n",
              "</style>\n",
              "<table border=\"1\" class=\"dataframe\">\n",
              "  <thead>\n",
              "    <tr style=\"text-align: right;\">\n",
              "      <th></th>\n",
              "      <th>year</th>\n",
              "      <th>month</th>\n",
              "      <th>day</th>\n",
              "      <th>magnitude</th>\n",
              "      <th>injuries</th>\n",
              "      <th>fatalities</th>\n",
              "      <th>slat</th>\n",
              "      <th>slon</th>\n",
              "      <th>elat</th>\n",
              "      <th>elon</th>\n",
              "      <th>len</th>\n",
              "      <th>wid</th>\n",
              "    </tr>\n",
              "  </thead>\n",
              "  <tbody>\n",
              "    <tr>\n",
              "      <th>count</th>\n",
              "      <td>67558.000000</td>\n",
              "      <td>67558.000000</td>\n",
              "      <td>67558.000000</td>\n",
              "      <td>67558.000000</td>\n",
              "      <td>67558.000000</td>\n",
              "      <td>67558.000000</td>\n",
              "      <td>67558.000000</td>\n",
              "      <td>67558.000000</td>\n",
              "      <td>67558.000000</td>\n",
              "      <td>67558.000000</td>\n",
              "      <td>67558.000000</td>\n",
              "      <td>67558.000000</td>\n",
              "    </tr>\n",
              "    <tr>\n",
              "      <th>mean</th>\n",
              "      <td>1991.341618</td>\n",
              "      <td>5.976761</td>\n",
              "      <td>15.921016</td>\n",
              "      <td>0.691273</td>\n",
              "      <td>1.437876</td>\n",
              "      <td>0.090470</td>\n",
              "      <td>37.142412</td>\n",
              "      <td>-92.784618</td>\n",
              "      <td>22.730695</td>\n",
              "      <td>-56.245590</td>\n",
              "      <td>3.478340</td>\n",
              "      <td>106.577030</td>\n",
              "    </tr>\n",
              "    <tr>\n",
              "      <th>std</th>\n",
              "      <td>19.330015</td>\n",
              "      <td>2.438192</td>\n",
              "      <td>8.736773</td>\n",
              "      <td>1.283375</td>\n",
              "      <td>18.263956</td>\n",
              "      <td>1.484106</td>\n",
              "      <td>5.093979</td>\n",
              "      <td>8.689103</td>\n",
              "      <td>18.588638</td>\n",
              "      <td>45.489157</td>\n",
              "      <td>8.278775</td>\n",
              "      <td>205.802676</td>\n",
              "    </tr>\n",
              "    <tr>\n",
              "      <th>min</th>\n",
              "      <td>1950.000000</td>\n",
              "      <td>1.000000</td>\n",
              "      <td>1.000000</td>\n",
              "      <td>-9.000000</td>\n",
              "      <td>0.000000</td>\n",
              "      <td>0.000000</td>\n",
              "      <td>17.721200</td>\n",
              "      <td>-163.530000</td>\n",
              "      <td>0.000000</td>\n",
              "      <td>-163.530000</td>\n",
              "      <td>0.000000</td>\n",
              "      <td>0.000000</td>\n",
              "    </tr>\n",
              "    <tr>\n",
              "      <th>25%</th>\n",
              "      <td>1976.000000</td>\n",
              "      <td>4.000000</td>\n",
              "      <td>8.000000</td>\n",
              "      <td>0.000000</td>\n",
              "      <td>0.000000</td>\n",
              "      <td>0.000000</td>\n",
              "      <td>33.220000</td>\n",
              "      <td>-98.450000</td>\n",
              "      <td>0.000000</td>\n",
              "      <td>-94.709800</td>\n",
              "      <td>0.100000</td>\n",
              "      <td>20.000000</td>\n",
              "    </tr>\n",
              "    <tr>\n",
              "      <th>50%</th>\n",
              "      <td>1994.000000</td>\n",
              "      <td>6.000000</td>\n",
              "      <td>16.000000</td>\n",
              "      <td>1.000000</td>\n",
              "      <td>0.000000</td>\n",
              "      <td>0.000000</td>\n",
              "      <td>37.030000</td>\n",
              "      <td>-93.600000</td>\n",
              "      <td>32.480000</td>\n",
              "      <td>-84.420000</td>\n",
              "      <td>0.800000</td>\n",
              "      <td>50.000000</td>\n",
              "    </tr>\n",
              "    <tr>\n",
              "      <th>75%</th>\n",
              "      <td>2008.000000</td>\n",
              "      <td>7.000000</td>\n",
              "      <td>24.000000</td>\n",
              "      <td>1.000000</td>\n",
              "      <td>0.000000</td>\n",
              "      <td>0.000000</td>\n",
              "      <td>40.930000</td>\n",
              "      <td>-86.730000</td>\n",
              "      <td>38.610000</td>\n",
              "      <td>0.000000</td>\n",
              "      <td>3.130000</td>\n",
              "      <td>100.000000</td>\n",
              "    </tr>\n",
              "    <tr>\n",
              "      <th>max</th>\n",
              "      <td>2021.000000</td>\n",
              "      <td>12.000000</td>\n",
              "      <td>31.000000</td>\n",
              "      <td>5.000000</td>\n",
              "      <td>1740.000000</td>\n",
              "      <td>158.000000</td>\n",
              "      <td>61.020000</td>\n",
              "      <td>-64.715100</td>\n",
              "      <td>61.020000</td>\n",
              "      <td>0.000000</td>\n",
              "      <td>234.700000</td>\n",
              "      <td>4576.000000</td>\n",
              "    </tr>\n",
              "  </tbody>\n",
              "</table>\n",
              "</div>\n",
              "      <button class=\"colab-df-convert\" onclick=\"convertToInteractive('df-8fd26578-d015-431d-b74b-ba8c5ade41f8')\"\n",
              "              title=\"Convert this dataframe to an interactive table.\"\n",
              "              style=\"display:none;\">\n",
              "        \n",
              "  <svg xmlns=\"http://www.w3.org/2000/svg\" height=\"24px\"viewBox=\"0 0 24 24\"\n",
              "       width=\"24px\">\n",
              "    <path d=\"M0 0h24v24H0V0z\" fill=\"none\"/>\n",
              "    <path d=\"M18.56 5.44l.94 2.06.94-2.06 2.06-.94-2.06-.94-.94-2.06-.94 2.06-2.06.94zm-11 1L8.5 8.5l.94-2.06 2.06-.94-2.06-.94L8.5 2.5l-.94 2.06-2.06.94zm10 10l.94 2.06.94-2.06 2.06-.94-2.06-.94-.94-2.06-.94 2.06-2.06.94z\"/><path d=\"M17.41 7.96l-1.37-1.37c-.4-.4-.92-.59-1.43-.59-.52 0-1.04.2-1.43.59L10.3 9.45l-7.72 7.72c-.78.78-.78 2.05 0 2.83L4 21.41c.39.39.9.59 1.41.59.51 0 1.02-.2 1.41-.59l7.78-7.78 2.81-2.81c.8-.78.8-2.07 0-2.86zM5.41 20L4 18.59l7.72-7.72 1.47 1.35L5.41 20z\"/>\n",
              "  </svg>\n",
              "      </button>\n",
              "      \n",
              "  <style>\n",
              "    .colab-df-container {\n",
              "      display:flex;\n",
              "      flex-wrap:wrap;\n",
              "      gap: 12px;\n",
              "    }\n",
              "\n",
              "    .colab-df-convert {\n",
              "      background-color: #E8F0FE;\n",
              "      border: none;\n",
              "      border-radius: 50%;\n",
              "      cursor: pointer;\n",
              "      display: none;\n",
              "      fill: #1967D2;\n",
              "      height: 32px;\n",
              "      padding: 0 0 0 0;\n",
              "      width: 32px;\n",
              "    }\n",
              "\n",
              "    .colab-df-convert:hover {\n",
              "      background-color: #E2EBFA;\n",
              "      box-shadow: 0px 1px 2px rgba(60, 64, 67, 0.3), 0px 1px 3px 1px rgba(60, 64, 67, 0.15);\n",
              "      fill: #174EA6;\n",
              "    }\n",
              "\n",
              "    [theme=dark] .colab-df-convert {\n",
              "      background-color: #3B4455;\n",
              "      fill: #D2E3FC;\n",
              "    }\n",
              "\n",
              "    [theme=dark] .colab-df-convert:hover {\n",
              "      background-color: #434B5C;\n",
              "      box-shadow: 0px 1px 3px 1px rgba(0, 0, 0, 0.15);\n",
              "      filter: drop-shadow(0px 1px 2px rgba(0, 0, 0, 0.3));\n",
              "      fill: #FFFFFF;\n",
              "    }\n",
              "  </style>\n",
              "\n",
              "      <script>\n",
              "        const buttonEl =\n",
              "          document.querySelector('#df-8fd26578-d015-431d-b74b-ba8c5ade41f8 button.colab-df-convert');\n",
              "        buttonEl.style.display =\n",
              "          google.colab.kernel.accessAllowed ? 'block' : 'none';\n",
              "\n",
              "        async function convertToInteractive(key) {\n",
              "          const element = document.querySelector('#df-8fd26578-d015-431d-b74b-ba8c5ade41f8');\n",
              "          const dataTable =\n",
              "            await google.colab.kernel.invokeFunction('convertToInteractive',\n",
              "                                                     [key], {});\n",
              "          if (!dataTable) return;\n",
              "\n",
              "          const docLinkHtml = 'Like what you see? Visit the ' +\n",
              "            '<a target=\"_blank\" href=https://colab.research.google.com/notebooks/data_table.ipynb>data table notebook</a>'\n",
              "            + ' to learn more about interactive tables.';\n",
              "          element.innerHTML = '';\n",
              "          dataTable['output_type'] = 'display_data';\n",
              "          await google.colab.output.renderOutput(dataTable, element);\n",
              "          const docLink = document.createElement('div');\n",
              "          docLink.innerHTML = docLinkHtml;\n",
              "          element.appendChild(docLink);\n",
              "        }\n",
              "      </script>\n",
              "    </div>\n",
              "  </div>\n",
              "  "
            ]
          },
          "metadata": {},
          "execution_count": 42
        }
      ]
    },
    {
      "cell_type": "code",
      "source": [
        "df.isna().sum()"
      ],
      "metadata": {
        "colab": {
          "base_uri": "https://localhost:8080/"
        },
        "id": "sJiBjr2a1b9L",
        "outputId": "231dea2a-d8a8-4088-958b-9e562fddc803"
      },
      "execution_count": 61,
      "outputs": [
        {
          "output_type": "execute_result",
          "data": {
            "text/plain": [
              "year          0\n",
              "month         0\n",
              "day           0\n",
              "date          0\n",
              "state         0\n",
              "magnitude     0\n",
              "injuries      0\n",
              "fatalities    0\n",
              "slat          0\n",
              "slon          0\n",
              "elat          0\n",
              "elon          0\n",
              "len           0\n",
              "wid           0\n",
              "dtype: int64"
            ]
          },
          "metadata": {},
          "execution_count": 61
        }
      ]
    },
    {
      "cell_type": "markdown",
      "source": [
        "For the next section of exploration we will be looking at the magnitude of the tornadoes. Since the dataset uses the value of -9 to mark unknown magnitudes, we will need to remove those for our purposes."
      ],
      "metadata": {
        "id": "iF8C8PW3B4lA"
      }
    },
    {
      "cell_type": "code",
      "source": [
        "# Count the number of unknown magnitude readings\n",
        "df[df['magnitude']==-9]['magnitude'].count()"
      ],
      "metadata": {
        "colab": {
          "base_uri": "https://localhost:8080/"
        },
        "id": "keV_D4WSAMwy",
        "outputId": "065a1e11-0f5d-4371-c71c-2566106e483b"
      },
      "execution_count": 86,
      "outputs": [
        {
          "output_type": "execute_result",
          "data": {
            "text/plain": [
              "605"
            ]
          },
          "metadata": {},
          "execution_count": 86
        }
      ]
    },
    {
      "cell_type": "markdown",
      "source": [
        "Lets remove those and verify that they are gone"
      ],
      "metadata": {
        "id": "1HtmO2U6CPca"
      }
    },
    {
      "cell_type": "code",
      "source": [
        "mgdf = df[df['magnitude']!=-9]\n",
        "mgdf[mgdf['magnitude']==-9]['magnitude'].count()"
      ],
      "metadata": {
        "colab": {
          "base_uri": "https://localhost:8080/"
        },
        "id": "q1Ww6M3YAiVs",
        "outputId": "426fc1f0-9ee5-4ebc-f364-408c8aee5034"
      },
      "execution_count": 87,
      "outputs": [
        {
          "output_type": "execute_result",
          "data": {
            "text/plain": [
              "0"
            ]
          },
          "metadata": {},
          "execution_count": 87
        }
      ]
    },
    {
      "cell_type": "code",
      "source": [
        "mgdf['magnitude'].value_counts()"
      ],
      "metadata": {
        "colab": {
          "base_uri": "https://localhost:8080/"
        },
        "id": "M3dvRMAV_0hj",
        "outputId": "7a47f8c8-b65d-43ad-834c-f9392c1e937e"
      },
      "execution_count": 73,
      "outputs": [
        {
          "output_type": "execute_result",
          "data": {
            "text/plain": [
              "0    31375\n",
              "1    22885\n",
              "2     9517\n",
              "3     2536\n",
              "4      581\n",
              "5       59\n",
              "Name: magnitude, dtype: int64"
            ]
          },
          "metadata": {},
          "execution_count": 73
        }
      ]
    },
    {
      "cell_type": "markdown",
      "source": [
        "As we can see, the vast majority of tornadoes are either Category 0 or Category 1. According to the dataset author, 2007 was when the data switched from the normal Fujita score to the Enchanced Fujita score. Lets look at any differences between those scores and for speed considerations lets look just at Missouri (which is where I am from). "
      ],
      "metadata": {
        "id": "7XGHcLoiCuWI"
      }
    },
    {
      "cell_type": "code",
      "source": [
        "mgdf_bef2007 = mgdf[(mgdf['year']<2007) & (mgdf['state']=='MO')]\n",
        "mgdf_aft2007 = mgdf[(mgdf['year']>=2007) & (mgdf['state']=='MO')]"
      ],
      "metadata": {
        "id": "znKOkjvI4UVa"
      },
      "execution_count": 75,
      "outputs": []
    },
    {
      "cell_type": "code",
      "source": [
        "mgdf_bef2007.head()"
      ],
      "metadata": {
        "colab": {
          "base_uri": "https://localhost:8080/",
          "height": 206
        },
        "id": "fzWTPNAP5-68",
        "outputId": "ab6c4b14-9a53-48d8-d094-980dfe0bf5d2"
      },
      "execution_count": 76,
      "outputs": [
        {
          "output_type": "execute_result",
          "data": {
            "text/plain": [
              "     year  month  day        date state  magnitude  injuries  fatalities  \\\n",
              "1    1950      1    3  1950-01-03    MO          3         3           0   \n",
              "5    1950      1   25  1950-01-25    MO          2         5           0   \n",
              "132  1950      6    9  1950-06-09    MO          1         0           0   \n",
              "141  1950      6   15  1950-06-15    MO          1         0           0   \n",
              "168  1950      7   19  1950-07-19    MO          1         0           0   \n",
              "\n",
              "      slat   slon   elat   elon  len  wid  \n",
              "1    38.77 -90.22  38.83 -90.03  9.5  150  \n",
              "5    37.60 -90.68  37.63 -90.65  2.3  300  \n",
              "132  38.00 -92.22  38.02 -92.17  2.7  220  \n",
              "141  39.70 -92.07   0.00   0.00  0.2  100  \n",
              "168  38.42 -92.77   0.00   0.00  1.5  440  "
            ],
            "text/html": [
              "\n",
              "  <div id=\"df-e8cb658d-7046-45e1-b444-9056f1029052\">\n",
              "    <div class=\"colab-df-container\">\n",
              "      <div>\n",
              "<style scoped>\n",
              "    .dataframe tbody tr th:only-of-type {\n",
              "        vertical-align: middle;\n",
              "    }\n",
              "\n",
              "    .dataframe tbody tr th {\n",
              "        vertical-align: top;\n",
              "    }\n",
              "\n",
              "    .dataframe thead th {\n",
              "        text-align: right;\n",
              "    }\n",
              "</style>\n",
              "<table border=\"1\" class=\"dataframe\">\n",
              "  <thead>\n",
              "    <tr style=\"text-align: right;\">\n",
              "      <th></th>\n",
              "      <th>year</th>\n",
              "      <th>month</th>\n",
              "      <th>day</th>\n",
              "      <th>date</th>\n",
              "      <th>state</th>\n",
              "      <th>magnitude</th>\n",
              "      <th>injuries</th>\n",
              "      <th>fatalities</th>\n",
              "      <th>slat</th>\n",
              "      <th>slon</th>\n",
              "      <th>elat</th>\n",
              "      <th>elon</th>\n",
              "      <th>len</th>\n",
              "      <th>wid</th>\n",
              "    </tr>\n",
              "  </thead>\n",
              "  <tbody>\n",
              "    <tr>\n",
              "      <th>1</th>\n",
              "      <td>1950</td>\n",
              "      <td>1</td>\n",
              "      <td>3</td>\n",
              "      <td>1950-01-03</td>\n",
              "      <td>MO</td>\n",
              "      <td>3</td>\n",
              "      <td>3</td>\n",
              "      <td>0</td>\n",
              "      <td>38.77</td>\n",
              "      <td>-90.22</td>\n",
              "      <td>38.83</td>\n",
              "      <td>-90.03</td>\n",
              "      <td>9.5</td>\n",
              "      <td>150</td>\n",
              "    </tr>\n",
              "    <tr>\n",
              "      <th>5</th>\n",
              "      <td>1950</td>\n",
              "      <td>1</td>\n",
              "      <td>25</td>\n",
              "      <td>1950-01-25</td>\n",
              "      <td>MO</td>\n",
              "      <td>2</td>\n",
              "      <td>5</td>\n",
              "      <td>0</td>\n",
              "      <td>37.60</td>\n",
              "      <td>-90.68</td>\n",
              "      <td>37.63</td>\n",
              "      <td>-90.65</td>\n",
              "      <td>2.3</td>\n",
              "      <td>300</td>\n",
              "    </tr>\n",
              "    <tr>\n",
              "      <th>132</th>\n",
              "      <td>1950</td>\n",
              "      <td>6</td>\n",
              "      <td>9</td>\n",
              "      <td>1950-06-09</td>\n",
              "      <td>MO</td>\n",
              "      <td>1</td>\n",
              "      <td>0</td>\n",
              "      <td>0</td>\n",
              "      <td>38.00</td>\n",
              "      <td>-92.22</td>\n",
              "      <td>38.02</td>\n",
              "      <td>-92.17</td>\n",
              "      <td>2.7</td>\n",
              "      <td>220</td>\n",
              "    </tr>\n",
              "    <tr>\n",
              "      <th>141</th>\n",
              "      <td>1950</td>\n",
              "      <td>6</td>\n",
              "      <td>15</td>\n",
              "      <td>1950-06-15</td>\n",
              "      <td>MO</td>\n",
              "      <td>1</td>\n",
              "      <td>0</td>\n",
              "      <td>0</td>\n",
              "      <td>39.70</td>\n",
              "      <td>-92.07</td>\n",
              "      <td>0.00</td>\n",
              "      <td>0.00</td>\n",
              "      <td>0.2</td>\n",
              "      <td>100</td>\n",
              "    </tr>\n",
              "    <tr>\n",
              "      <th>168</th>\n",
              "      <td>1950</td>\n",
              "      <td>7</td>\n",
              "      <td>19</td>\n",
              "      <td>1950-07-19</td>\n",
              "      <td>MO</td>\n",
              "      <td>1</td>\n",
              "      <td>0</td>\n",
              "      <td>0</td>\n",
              "      <td>38.42</td>\n",
              "      <td>-92.77</td>\n",
              "      <td>0.00</td>\n",
              "      <td>0.00</td>\n",
              "      <td>1.5</td>\n",
              "      <td>440</td>\n",
              "    </tr>\n",
              "  </tbody>\n",
              "</table>\n",
              "</div>\n",
              "      <button class=\"colab-df-convert\" onclick=\"convertToInteractive('df-e8cb658d-7046-45e1-b444-9056f1029052')\"\n",
              "              title=\"Convert this dataframe to an interactive table.\"\n",
              "              style=\"display:none;\">\n",
              "        \n",
              "  <svg xmlns=\"http://www.w3.org/2000/svg\" height=\"24px\"viewBox=\"0 0 24 24\"\n",
              "       width=\"24px\">\n",
              "    <path d=\"M0 0h24v24H0V0z\" fill=\"none\"/>\n",
              "    <path d=\"M18.56 5.44l.94 2.06.94-2.06 2.06-.94-2.06-.94-.94-2.06-.94 2.06-2.06.94zm-11 1L8.5 8.5l.94-2.06 2.06-.94-2.06-.94L8.5 2.5l-.94 2.06-2.06.94zm10 10l.94 2.06.94-2.06 2.06-.94-2.06-.94-.94-2.06-.94 2.06-2.06.94z\"/><path d=\"M17.41 7.96l-1.37-1.37c-.4-.4-.92-.59-1.43-.59-.52 0-1.04.2-1.43.59L10.3 9.45l-7.72 7.72c-.78.78-.78 2.05 0 2.83L4 21.41c.39.39.9.59 1.41.59.51 0 1.02-.2 1.41-.59l7.78-7.78 2.81-2.81c.8-.78.8-2.07 0-2.86zM5.41 20L4 18.59l7.72-7.72 1.47 1.35L5.41 20z\"/>\n",
              "  </svg>\n",
              "      </button>\n",
              "      \n",
              "  <style>\n",
              "    .colab-df-container {\n",
              "      display:flex;\n",
              "      flex-wrap:wrap;\n",
              "      gap: 12px;\n",
              "    }\n",
              "\n",
              "    .colab-df-convert {\n",
              "      background-color: #E8F0FE;\n",
              "      border: none;\n",
              "      border-radius: 50%;\n",
              "      cursor: pointer;\n",
              "      display: none;\n",
              "      fill: #1967D2;\n",
              "      height: 32px;\n",
              "      padding: 0 0 0 0;\n",
              "      width: 32px;\n",
              "    }\n",
              "\n",
              "    .colab-df-convert:hover {\n",
              "      background-color: #E2EBFA;\n",
              "      box-shadow: 0px 1px 2px rgba(60, 64, 67, 0.3), 0px 1px 3px 1px rgba(60, 64, 67, 0.15);\n",
              "      fill: #174EA6;\n",
              "    }\n",
              "\n",
              "    [theme=dark] .colab-df-convert {\n",
              "      background-color: #3B4455;\n",
              "      fill: #D2E3FC;\n",
              "    }\n",
              "\n",
              "    [theme=dark] .colab-df-convert:hover {\n",
              "      background-color: #434B5C;\n",
              "      box-shadow: 0px 1px 3px 1px rgba(0, 0, 0, 0.15);\n",
              "      filter: drop-shadow(0px 1px 2px rgba(0, 0, 0, 0.3));\n",
              "      fill: #FFFFFF;\n",
              "    }\n",
              "  </style>\n",
              "\n",
              "      <script>\n",
              "        const buttonEl =\n",
              "          document.querySelector('#df-e8cb658d-7046-45e1-b444-9056f1029052 button.colab-df-convert');\n",
              "        buttonEl.style.display =\n",
              "          google.colab.kernel.accessAllowed ? 'block' : 'none';\n",
              "\n",
              "        async function convertToInteractive(key) {\n",
              "          const element = document.querySelector('#df-e8cb658d-7046-45e1-b444-9056f1029052');\n",
              "          const dataTable =\n",
              "            await google.colab.kernel.invokeFunction('convertToInteractive',\n",
              "                                                     [key], {});\n",
              "          if (!dataTable) return;\n",
              "\n",
              "          const docLinkHtml = 'Like what you see? Visit the ' +\n",
              "            '<a target=\"_blank\" href=https://colab.research.google.com/notebooks/data_table.ipynb>data table notebook</a>'\n",
              "            + ' to learn more about interactive tables.';\n",
              "          element.innerHTML = '';\n",
              "          dataTable['output_type'] = 'display_data';\n",
              "          await google.colab.output.renderOutput(dataTable, element);\n",
              "          const docLink = document.createElement('div');\n",
              "          docLink.innerHTML = docLinkHtml;\n",
              "          element.appendChild(docLink);\n",
              "        }\n",
              "      </script>\n",
              "    </div>\n",
              "  </div>\n",
              "  "
            ]
          },
          "metadata": {},
          "execution_count": 76
        }
      ]
    },
    {
      "cell_type": "code",
      "source": [
        "sns.lineplot(x='date',y='magnitude',data=mgdf_bef2007)"
      ],
      "metadata": {
        "colab": {
          "base_uri": "https://localhost:8080/",
          "height": 466
        },
        "id": "mjlv-cT71jmK",
        "outputId": "6a3f29fe-bf3a-4122-fa91-41936f301547"
      },
      "execution_count": 77,
      "outputs": [
        {
          "output_type": "execute_result",
          "data": {
            "text/plain": [
              "<Axes: xlabel='date', ylabel='magnitude'>"
            ]
          },
          "metadata": {},
          "execution_count": 77
        },
        {
          "output_type": "display_data",
          "data": {
            "text/plain": [
              "<Figure size 640x480 with 1 Axes>"
            ],
            "image/png": "[encoded data removed]"
          },
          "metadata": {}
        }
      ]
    },
    {
      "cell_type": "code",
      "source": [
        "sns.countplot(x='magnitude',data=mgdf_bef2007)"
      ],
      "metadata": {
        "colab": {
          "base_uri": "https://localhost:8080/",
          "height": 466
        },
        "id": "ccCkuUKE6-1Y",
        "outputId": "87345e07-c430-483f-8c8e-13e1ac835427"
      },
      "execution_count": 78,
      "outputs": [
        {
          "output_type": "execute_result",
          "data": {
            "text/plain": [
              "<Axes: xlabel='magnitude', ylabel='count'>"
            ]
          },
          "metadata": {},
          "execution_count": 78
        },
        {
          "output_type": "display_data",
          "data": {
            "text/plain": [
              "<Figure size 640x480 with 1 Axes>"
            ],
            "image/png": "[encoded data removed]"
          },
          "metadata": {}
        }
      ]
    },
    {
      "cell_type": "code",
      "source": [
        "sns.lineplot(x='date',y='magnitude',data=mgdf_aft2007)"
      ],
      "metadata": {
        "colab": {
          "base_uri": "https://localhost:8080/",
          "height": 466
        },
        "id": "lB4PPd5233W6",
        "outputId": "19ec0f72-e82b-42db-c194-b5ffccdfe49d"
      },
      "execution_count": 79,
      "outputs": [
        {
          "output_type": "execute_result",
          "data": {
            "text/plain": [
              "<Axes: xlabel='date', ylabel='magnitude'>"
            ]
          },
          "metadata": {},
          "execution_count": 79
        },
        {
          "output_type": "display_data",
          "data": {
            "text/plain": [
              "<Figure size 640x480 with 1 Axes>"
            ],
            "image/png": "[encoded data removed]"
          },
          "metadata": {}
        }
      ]
    },
    {
      "cell_type": "code",
      "source": [
        "sns.countplot(x='magnitude',data=mgdf_aft2007)"
      ],
      "metadata": {
        "colab": {
          "base_uri": "https://localhost:8080/",
          "height": 466
        },
        "id": "f8EZihcD6fSB",
        "outputId": "95c2f914-0146-4e60-9d53-cb802e2c453c"
      },
      "execution_count": 80,
      "outputs": [
        {
          "output_type": "execute_result",
          "data": {
            "text/plain": [
              "<Axes: xlabel='magnitude', ylabel='count'>"
            ]
          },
          "metadata": {},
          "execution_count": 80
        },
        {
          "output_type": "display_data",
          "data": {
            "text/plain": [
              "<Figure size 640x480 with 1 Axes>"
            ],
            "image/png": "[encoded data removed]"
          },
          "metadata": {}
        }
      ]
    },
    {
      "cell_type": "markdown",
      "source": [
        "There are not many differences between the two sets, except that there are proportionally more Category 1 tornadoes than Category 0 before 2007. However, because we have restricted the data so heavily, it would not be fair to claim that the frequency of Category 1 tornadoes has gone down over time. The timeslices between 1950-2006 is 56 years and 2007-2021 is only 14 years. In addition there are zero category 5 tornadoes reported before 2007 in Missouri. \n",
        "\n",
        "Let's look at another feature, fatalities, before we start modeling."
      ],
      "metadata": {
        "id": "P3tzsQz2Dc9X"
      }
    },
    {
      "cell_type": "code",
      "source": [
        "fig = sns.countplot(x='fatalities', data=df)\n",
        "fig.set_xlim(0,10)"
      ],
      "metadata": {
        "colab": {
          "base_uri": "https://localhost:8080/",
          "height": 466
        },
        "id": "UUCYiXCF1HVG",
        "outputId": "13e5cf5c-c6c6-4a02-b197-28bc2af68781"
      },
      "execution_count": 88,
      "outputs": [
        {
          "output_type": "execute_result",
          "data": {
            "text/plain": [
              "(0.0, 10.0)"
            ]
          },
          "metadata": {},
          "execution_count": 88
        },
        {
          "output_type": "display_data",
          "data": {
            "text/plain": [
              "<Figure size 640x480 with 1 Axes>"
            ],
            "image/png": "[encoded data removed]"
          },
          "metadata": {}
        }
      ]
    },
    {
      "cell_type": "markdown",
      "source": [
        "The overwhelming majority of tornadoes do not kill anyone (that's great!) but let's see the breakdown of all tornadoes that did kill someone "
      ],
      "metadata": {
        "id": "Iyck513iEeWj"
      }
    },
    {
      "cell_type": "code",
      "source": [
        "fig = sns.countplot(x='fatalities', data=df[df['fatalities'] != 0])\n",
        "fig.set_xlim(0,10)"
      ],
      "metadata": {
        "colab": {
          "base_uri": "https://localhost:8080/",
          "height": 466
        },
        "id": "5rvPpa317hxt",
        "outputId": "ea9578de-0aa6-44d5-de95-678263103a09"
      },
      "execution_count": 89,
      "outputs": [
        {
          "output_type": "execute_result",
          "data": {
            "text/plain": [
              "(0.0, 10.0)"
            ]
          },
          "metadata": {},
          "execution_count": 89
        },
        {
          "output_type": "display_data",
          "data": {
            "text/plain": [
              "<Figure size 640x480 with 1 Axes>"
            ],
            "image/png": "[encoded data removed]"
          },
          "metadata": {}
        }
      ]
    },
    {
      "cell_type": "markdown",
      "source": [
        "Now lets see tornadoes with mass casualities (ie. >= 10 fatalities)"
      ],
      "metadata": {
        "id": "Y_PpTlgBFMbn"
      }
    },
    {
      "cell_type": "code",
      "source": [
        "fig, ax = plt.subplots(figsize=(20, 10))\n",
        "ax.set_xticklabels(ax.get_xticklabels(), rotation=60)\n",
        "sns.countplot(x='fatalities', data=df[df['fatalities'] >= 10], ax=ax)"
      ],
      "metadata": {
        "colab": {
          "base_uri": "https://localhost:8080/",
          "height": 938
        },
        "id": "qdM3PDWHFUDo",
        "outputId": "25d40077-582e-46e9-917f-833f57165d55"
      },
      "execution_count": 94,
      "outputs": [
        {
          "output_type": "stream",
          "name": "stderr",
          "text": [
            "<ipython-input-94-83dfc7928547>:2: UserWarning: FixedFormatter should only be used together with FixedLocator\n",
            "  ax.set_xticklabels(ax.get_xticklabels(), rotation=60)\n"
          ]
        },
        {
          "output_type": "execute_result",
          "data": {
            "text/plain": [
              "<Axes: xlabel='fatalities', ylabel='count'>"
            ]
          },
          "metadata": {},
          "execution_count": 94
        },
        {
          "output_type": "display_data",
          "data": {
            "text/plain": [
              "<Figure size 2000x1000 with 1 Axes>"
            ],
            "image/png": "[encoded data removed]"
          },
          "metadata": {}
        }
      ]
    },
    {
      "cell_type": "code",
      "source": [
        "mgdf['fatalities'].value_counts()"
      ],
      "metadata": {
        "colab": {
          "base_uri": "https://localhost:8080/"
        },
        "id": "NszZmWbH9yCo",
        "outputId": "0126329f-1209-419a-8716-4fcb38832eb1"
      },
      "execution_count": 72,
      "outputs": [
        {
          "output_type": "execute_result",
          "data": {
            "text/plain": [
              "0      65394\n",
              "1        810\n",
              "2        270\n",
              "3        131\n",
              "4         73\n",
              "5         45\n",
              "6         43\n",
              "7         31\n",
              "10        15\n",
              "9         14\n",
              "11        14\n",
              "8         13\n",
              "16        12\n",
              "13         8\n",
              "12         6\n",
              "21         6\n",
              "18         6\n",
              "17         6\n",
              "22         5\n",
              "25         4\n",
              "14         3\n",
              "24         3\n",
              "36         3\n",
              "28         3\n",
              "23         3\n",
              "38         2\n",
              "32         2\n",
              "31         2\n",
              "58         2\n",
              "15         2\n",
              "29         2\n",
              "20         2\n",
              "47         1\n",
              "19         1\n",
              "158        1\n",
              "72         1\n",
              "64         1\n",
              "27         1\n",
              "30         1\n",
              "42         1\n",
              "114        1\n",
              "26         1\n",
              "44         1\n",
              "50         1\n",
              "35         1\n",
              "116        1\n",
              "33         1\n",
              "94         1\n",
              "80         1\n",
              "57         1\n",
              "Name: fatalities, dtype: int64"
            ]
          },
          "metadata": {},
          "execution_count": 72
        }
      ]
    },
    {
      "cell_type": "markdown",
      "source": [
        "Now that there is a wide range to the possible death toll of a tornado lets compare the two features we looked at and see if there might be a corralation between the two. "
      ],
      "metadata": {
        "id": "uIOANGzMGEcq"
      }
    },
    {
      "cell_type": "code",
      "source": [
        "sns.scatterplot(data=mgdf, y='fatalities', x='magnitude')"
      ],
      "metadata": {
        "colab": {
          "base_uri": "https://localhost:8080/",
          "height": 466
        },
        "id": "S-5zkLqH_O9f",
        "outputId": "a59f3a41-e7e1-4048-f97c-a0075211086b"
      },
      "execution_count": 95,
      "outputs": [
        {
          "output_type": "execute_result",
          "data": {
            "text/plain": [
              "<Axes: xlabel='magnitude', ylabel='fatalities'>"
            ]
          },
          "metadata": {},
          "execution_count": 95
        },
        {
          "output_type": "display_data",
          "data": {
            "text/plain": [
              "<Figure size 640x480 with 1 Axes>"
            ],
            "image/png": "[encoded data removed]"
          },
          "metadata": {}
        }
      ]
    },
    {
      "cell_type": "markdown",
      "source": [
        "There definitely appears to be a correlation between the two features. This is a good sign since it matches our understanding of the problem, more dangerous tornado should result in more fatalities. "
      ],
      "metadata": {
        "id": "vb9C9WE2Gmm_"
      }
    },
    {
      "cell_type": "markdown",
      "source": [
        "# Part 2: Building a Model to Predict Fatalities"
      ],
      "metadata": {
        "id": "x-JcCeMvHYMi"
      }
    },
    {
      "cell_type": "markdown",
      "source": [
        "For our model, the purpose will be to predict the number of fatalities given the features of the tornado from this dataset. While it would be fair to assume a higher level of importance to the Magnitude feature as we have demonstrated correlation in the previous part, we should be thorough and check how each feature affects the model. We will start with a simple Linear Regression model as our output is not limited to 0-1.  "
      ],
      "metadata": {
        "id": "7uVpTyinH3bs"
      }
    },
    {
      "cell_type": "code",
      "source": [
        "from sklearn.model_selection import train_test_split\n",
        "from sklearn.linear_model import LinearRegression\n",
        "from sklearn.metrics import mean_squared_error"
      ],
      "metadata": {
        "id": "maFd1sai65OE"
      },
      "execution_count": 137,
      "outputs": []
    },
    {
      "cell_type": "markdown",
      "source": [
        "We will remove the end position features (elon and elat) because if our model were to be used by meteorologists, they would not be able to know where the tornado will end its path. We will remove the 'date' feature as well, since it is already represented by 'year', 'month', and 'day'. We will also remove rows with an unknown magnitude score and convert the categorical feature 'state' into a numerical one."
      ],
      "metadata": {
        "id": "18PmSiXZJyt4"
      }
    },
    {
      "cell_type": "code",
      "source": [
        "data = df[df['magnitude'] != -9].drop(['elon','elat','date'], axis=1)\n",
        "data = pd.get_dummies(data)\n",
        "print(len(data.columns))\n",
        "print(data.columns)"
      ],
      "metadata": {
        "colab": {
          "base_uri": "https://localhost:8080/"
        },
        "id": "rMM-DSaBJwX4",
        "outputId": "b8fe55d8-8b52-4680-81bc-36b57f4b4f7b"
      },
      "execution_count": 138,
      "outputs": [
        {
          "output_type": "stream",
          "name": "stdout",
          "text": [
            "63\n",
            "Index(['year', 'month', 'day', 'magnitude', 'injuries', 'fatalities', 'slat',\n",
            "       'slon', 'len', 'wid', 'state_AK', 'state_AL', 'state_AR', 'state_AZ',\n",
            "       'state_CA', 'state_CO', 'state_CT', 'state_DC', 'state_DE', 'state_FL',\n",
            "       'state_GA', 'state_HI', 'state_IA', 'state_ID', 'state_IL', 'state_IN',\n",
            "       'state_KS', 'state_KY', 'state_LA', 'state_MA', 'state_MD', 'state_ME',\n",
            "       'state_MI', 'state_MN', 'state_MO', 'state_MS', 'state_MT', 'state_NC',\n",
            "       'state_ND', 'state_NE', 'state_NH', 'state_NJ', 'state_NM', 'state_NV',\n",
            "       'state_NY', 'state_OH', 'state_OK', 'state_OR', 'state_PA', 'state_PR',\n",
            "       'state_RI', 'state_SC', 'state_SD', 'state_TN', 'state_TX', 'state_UT',\n",
            "       'state_VA', 'state_VI', 'state_VT', 'state_WA', 'state_WI', 'state_WV',\n",
            "       'state_WY'],\n",
            "      dtype='object')\n"
          ]
        }
      ]
    },
    {
      "cell_type": "code",
      "source": [
        "X = data.drop('fatalities',axis=1)\n",
        "y = data['fatalities']\n",
        "X_train, X_test, y_train, y_test = train_test_split(X,y,test_size=0.25, random_state=69)"
      ],
      "metadata": {
        "id": "Oqv846HuKVXb"
      },
      "execution_count": 139,
      "outputs": []
    },
    {
      "cell_type": "code",
      "source": [
        "model = LinearRegression().fit(X_train, y_train)\n",
        "y_pred = model.predict(X_test)"
      ],
      "metadata": {
        "id": "bJPLtwrtMBNW"
      },
      "execution_count": 140,
      "outputs": []
    },
    {
      "cell_type": "code",
      "source": [
        "mean_squared_error(y_test, y_pred)"
      ],
      "metadata": {
        "colab": {
          "base_uri": "https://localhost:8080/"
        },
        "id": "uUemFIZkM0Hs",
        "outputId": "e712a57d-38c4-4f19-e52c-73321c7cfb81"
      },
      "execution_count": 141,
      "outputs": [
        {
          "output_type": "execute_result",
          "data": {
            "text/plain": [
              "0.6952414691264956"
            ]
          },
          "metadata": {},
          "execution_count": 141
        }
      ]
    },
    {
      "cell_type": "code",
      "source": [
        "col = X.columns\n",
        "features = sorted(list(enumerate(model.coef_)), key=lambda x:x[1], reverse=True)\n",
        "for i,v in features:\n",
        " print('Feature: %s, Score: %.5f' % (col[i],v))"
      ],
      "metadata": {
        "colab": {
          "base_uri": "https://localhost:8080/"
        },
        "id": "n5JxVlB6NZNY",
        "outputId": "ad7b935b-f380-4fa7-bc13-5f738c8ef5fc"
      },
      "execution_count": 142,
      "outputs": [
        {
          "output_type": "stream",
          "name": "stdout",
          "text": [
            "Feature: state_VI, Score: 0.16514\n",
            "Feature: state_PR, Score: 0.14974\n",
            "Feature: state_MA, Score: 0.14297\n",
            "Feature: state_NY, Score: 0.10638\n",
            "Feature: state_ME, Score: 0.10456\n",
            "Feature: state_VT, Score: 0.09035\n",
            "Feature: state_NH, Score: 0.08955\n",
            "Feature: state_TN, Score: 0.08239\n",
            "Feature: state_DC, Score: 0.07735\n",
            "Feature: state_MI, Score: 0.07534\n",
            "Feature: state_NC, Score: 0.07379\n",
            "Feature: state_FL, Score: 0.06972\n",
            "Feature: state_NJ, Score: 0.06720\n",
            "Feature: injuries, Score: 0.06445\n",
            "Feature: state_DE, Score: 0.05720\n",
            "Feature: state_PA, Score: 0.05671\n",
            "Feature: state_MO, Score: 0.05446\n",
            "Feature: state_AL, Score: 0.04127\n",
            "Feature: state_MD, Score: 0.04094\n",
            "Feature: state_VA, Score: 0.04087\n",
            "Feature: state_WV, Score: 0.03623\n",
            "Feature: state_MS, Score: 0.03355\n",
            "Feature: state_AR, Score: 0.03155\n",
            "Feature: state_SC, Score: 0.02754\n",
            "Feature: state_KY, Score: 0.02634\n",
            "Feature: state_WI, Score: 0.02257\n",
            "Feature: state_GA, Score: 0.01716\n",
            "Feature: state_IN, Score: 0.00605\n",
            "Feature: len, Score: 0.00448\n",
            "Feature: magnitude, Score: 0.00178\n",
            "Feature: state_LA, Score: 0.00139\n",
            "Feature: day, Score: 0.00068\n",
            "Feature: slat, Score: 0.00030\n",
            "Feature: wid, Score: 0.00020\n",
            "Feature: year, Score: -0.00011\n",
            "Feature: month, Score: -0.00064\n",
            "Feature: state_TX, Score: -0.00200\n",
            "Feature: state_OK, Score: -0.00230\n",
            "Feature: state_ND, Score: -0.00271\n",
            "Feature: slon, Score: -0.00412\n",
            "Feature: state_IL, Score: -0.00767\n",
            "Feature: state_KS, Score: -0.01180\n",
            "Feature: state_MN, Score: -0.01183\n",
            "Feature: state_SD, Score: -0.01215\n",
            "Feature: state_IA, Score: -0.01754\n",
            "Feature: state_OH, Score: -0.01805\n",
            "Feature: state_NE, Score: -0.01942\n",
            "Feature: state_CO, Score: -0.02070\n",
            "Feature: state_NM, Score: -0.02435\n",
            "Feature: state_MT, Score: -0.02874\n",
            "Feature: state_WY, Score: -0.02946\n",
            "Feature: state_ID, Score: -0.05775\n",
            "Feature: state_NV, Score: -0.06078\n",
            "Feature: state_RI, Score: -0.07300\n",
            "Feature: state_AZ, Score: -0.08462\n",
            "Feature: state_WA, Score: -0.08574\n",
            "Feature: state_CA, Score: -0.09014\n",
            "Feature: state_UT, Score: -0.09082\n",
            "Feature: state_AK, Score: -0.21831\n",
            "Feature: state_HI, Score: -0.23523\n",
            "Feature: state_OR, Score: -0.24630\n",
            "Feature: state_CT, Score: -0.33687\n"
          ]
        }
      ]
    },
    {
      "cell_type": "markdown",
      "source": [
        "It seems like more importance was put onto the states than I had hoped. Resulting a large error. For the sake of our sanity lets remove the state feature for now and try again."
      ],
      "metadata": {
        "id": "CVLO-XebPdjR"
      }
    },
    {
      "cell_type": "code",
      "source": [
        "no_state_data = df[df['magnitude'] != -9].drop(['elon','elat','date','state'], axis=1)\n",
        "X = no_state_data.drop('fatalities',axis=1)\n",
        "y = no_state_data['fatalities']\n",
        "X_train, X_test, y_train, y_test = train_test_split(X,y,test_size=0.25, random_state=69)\n",
        "model = LinearRegression().fit(X_train, y_train)\n",
        "y_pred = model.predict(X_test)\n",
        "mean_squared_error(y_test, y_pred)"
      ],
      "metadata": {
        "colab": {
          "base_uri": "https://localhost:8080/"
        },
        "id": "Ki0haVKhPrWr",
        "outputId": "72f55c51-d63e-404f-fea4-15fae4f43dd1"
      },
      "execution_count": 143,
      "outputs": [
        {
          "output_type": "execute_result",
          "data": {
            "text/plain": [
              "0.6946337928629758"
            ]
          },
          "metadata": {},
          "execution_count": 143
        }
      ]
    },
    {
      "cell_type": "markdown",
      "source": [
        "Not a huge change but it in fact improved very slightly. Lets look at the features again."
      ],
      "metadata": {
        "id": "Vyg4qa_aQB-I"
      }
    },
    {
      "cell_type": "code",
      "source": [
        "col = X.columns\n",
        "features = sorted(list(enumerate(model.coef_)), key=lambda x:x[1], reverse=True)\n",
        "for i,v in features:\n",
        " print('Feature: %s, Score: %.5f' % (col[i],v))"
      ],
      "metadata": {
        "colab": {
          "base_uri": "https://localhost:8080/"
        },
        "id": "ilgXVaTmP9Cm",
        "outputId": "07b2bb64-06c0-47b2-c37c-814386e1fd39"
      },
      "execution_count": 144,
      "outputs": [
        {
          "output_type": "stream",
          "name": "stdout",
          "text": [
            "Feature: injuries, Score: 0.06444\n",
            "Feature: len, Score: 0.00453\n",
            "Feature: magnitude, Score: 0.00109\n",
            "Feature: day, Score: 0.00067\n",
            "Feature: wid, Score: 0.00020\n",
            "Feature: year, Score: -0.00013\n",
            "Feature: month, Score: -0.00088\n",
            "Feature: slat, Score: -0.00089\n",
            "Feature: slon, Score: -0.00105\n"
          ]
        }
      ]
    },
    {
      "cell_type": "markdown",
      "source": [
        "This makes a lot of sense from our real-world understanding of the problem. If a bunch of people are getting injured, then it would be more likely that people would die. Also, our feature we thought would perform the best 'Magnitude' came in at 3rd. This makes sense since a higher level tornado will more likely be taken seriously by the local population and government.\n",
        "\n",
        "Now let's train the model using only the best 4 parameters."
      ],
      "metadata": {
        "id": "wxIpeCb_RNEt"
      }
    },
    {
      "cell_type": "code",
      "source": [
        "best_data = df[df['magnitude'] != -9].drop(['elon','elat','date','state','slat','slon','month','year','wid'], axis=1)\n",
        "X = best_data.drop('fatalities',axis=1)\n",
        "y = best_data['fatalities']\n",
        "X_train, X_test, y_train, y_test = train_test_split(X,y,test_size=0.25, random_state=69)\n",
        "model = LinearRegression().fit(X_train, y_train)\n",
        "y_pred = model.predict(X_test)\n",
        "mean_squared_error(y_test, y_pred)"
      ],
      "metadata": {
        "colab": {
          "base_uri": "https://localhost:8080/"
        },
        "id": "PHRmm8JUQb2K",
        "outputId": "de696be4-9220-4ca9-9961-199ebfd194d9"
      },
      "execution_count": 148,
      "outputs": [
        {
          "output_type": "execute_result",
          "data": {
            "text/plain": [
              "0.692702452007745"
            ]
          },
          "metadata": {},
          "execution_count": 148
        }
      ]
    },
    {
      "cell_type": "code",
      "source": [
        "col = X.columns\n",
        "features = sorted(list(enumerate(model.coef_)), key=lambda x:x[1], reverse=True)\n",
        "for i,v in features:\n",
        " print('Feature: %s, Score: %.5f' % (col[i],v))"
      ],
      "metadata": {
        "colab": {
          "base_uri": "https://localhost:8080/"
        },
        "id": "nm_PvHQpS55A",
        "outputId": "4484d7f6-8993-44b4-b8ca-04e3e3e0ad10"
      },
      "execution_count": 149,
      "outputs": [
        {
          "output_type": "stream",
          "name": "stdout",
          "text": [
            "Feature: injuries, Score: 0.06454\n",
            "Feature: magnitude, Score: 0.01504\n",
            "Feature: len, Score: 0.00560\n",
            "Feature: day, Score: 0.00078\n"
          ]
        }
      ]
    },
    {
      "cell_type": "markdown",
      "source": [
        "Even with all of our feature manipulation we could not meaningfully improve the loss. I think to better improve our results, we should change the problem we are trying to solve. For the next section we will try to predict if a given tornado will have any fatalities at all."
      ],
      "metadata": {
        "id": "ymUa1icdTLW7"
      }
    },
    {
      "cell_type": "markdown",
      "source": [
        "# Part 3: Solving the Classification Problem"
      ],
      "metadata": {
        "id": "3SbmSPRnThCo"
      }
    },
    {
      "cell_type": "markdown",
      "source": [
        "For this part, we will engineer a new output feature to change the problem into a binary classification problem. Our new question we will ask will be \"Will this tornado have ANY fatalities?\""
      ],
      "metadata": {
        "id": "VGMsoOqETsIY"
      }
    },
    {
      "cell_type": "code",
      "source": [
        "from sklearn.linear_model import LogisticRegression\n",
        "from sklearn.metrics import accuracy_score\n",
        "from sklearn.metrics import confusion_matrix, ConfusionMatrixDisplay"
      ],
      "metadata": {
        "id": "-vQaAvVtS6gm"
      },
      "execution_count": 165,
      "outputs": []
    },
    {
      "cell_type": "code",
      "source": [
        "# We will need to create a new feature for our data to be our classification output\n",
        "bin_data = df[df['magnitude'] != -9].drop(['elon','elat','date','state'], axis=1)\n",
        "bin_data['hasFatalities'] = bin_data['fatalities'] >= 1\n",
        "bin_data['hasFatalities'] = bin_data['hasFatalities'].astype(int)\n",
        "bin_data = bin_data.drop('fatalities',axis=1)\n",
        "bin_data.head()"
      ],
      "metadata": {
        "colab": {
          "base_uri": "https://localhost:8080/",
          "height": 206
        },
        "id": "mQaTvLDdUVQd",
        "outputId": "0e279efe-9c7d-4061-f23a-b95824e10a3a"
      },
      "execution_count": 160,
      "outputs": [
        {
          "output_type": "execute_result",
          "data": {
            "text/plain": [
              "   year  month  day  magnitude  injuries   slat   slon  len  wid  \\\n",
              "0  1950      1    3          3         3  39.10 -89.30  3.6  130   \n",
              "1  1950      1    3          3         3  38.77 -90.22  9.5  150   \n",
              "2  1950      1    3          1         1  40.88 -84.58  0.1   10   \n",
              "3  1950      1   13          3         1  34.40 -94.37  0.6   17   \n",
              "4  1950      1   25          2         0  41.17 -87.33  0.1  100   \n",
              "\n",
              "   hasFatalities  \n",
              "0              0  \n",
              "1              0  \n",
              "2              0  \n",
              "3              1  \n",
              "4              0  "
            ],
            "text/html": [
              "\n",
              "  <div id=\"df-ddbebfb9-aeef-4290-93b5-cd54e7c42803\">\n",
              "    <div class=\"colab-df-container\">\n",
              "      <div>\n",
              "<style scoped>\n",
              "    .dataframe tbody tr th:only-of-type {\n",
              "        vertical-align: middle;\n",
              "    }\n",
              "\n",
              "    .dataframe tbody tr th {\n",
              "        vertical-align: top;\n",
              "    }\n",
              "\n",
              "    .dataframe thead th {\n",
              "        text-align: right;\n",
              "    }\n",
              "</style>\n",
              "<table border=\"1\" class=\"dataframe\">\n",
              "  <thead>\n",
              "    <tr style=\"text-align: right;\">\n",
              "      <th></th>\n",
              "      <th>year</th>\n",
              "      <th>month</th>\n",
              "      <th>day</th>\n",
              "      <th>magnitude</th>\n",
              "      <th>injuries</th>\n",
              "      <th>slat</th>\n",
              "      <th>slon</th>\n",
              "      <th>len</th>\n",
              "      <th>wid</th>\n",
              "      <th>hasFatalities</th>\n",
              "    </tr>\n",
              "  </thead>\n",
              "  <tbody>\n",
              "    <tr>\n",
              "      <th>0</th>\n",
              "      <td>1950</td>\n",
              "      <td>1</td>\n",
              "      <td>3</td>\n",
              "      <td>3</td>\n",
              "      <td>3</td>\n",
              "      <td>39.10</td>\n",
              "      <td>-89.30</td>\n",
              "      <td>3.6</td>\n",
              "      <td>130</td>\n",
              "      <td>0</td>\n",
              "    </tr>\n",
              "    <tr>\n",
              "      <th>1</th>\n",
              "      <td>1950</td>\n",
              "      <td>1</td>\n",
              "      <td>3</td>\n",
              "      <td>3</td>\n",
              "      <td>3</td>\n",
              "      <td>38.77</td>\n",
              "      <td>-90.22</td>\n",
              "      <td>9.5</td>\n",
              "      <td>150</td>\n",
              "      <td>0</td>\n",
              "    </tr>\n",
              "    <tr>\n",
              "      <th>2</th>\n",
              "      <td>1950</td>\n",
              "      <td>1</td>\n",
              "      <td>3</td>\n",
              "      <td>1</td>\n",
              "      <td>1</td>\n",
              "      <td>40.88</td>\n",
              "      <td>-84.58</td>\n",
              "      <td>0.1</td>\n",
              "      <td>10</td>\n",
              "      <td>0</td>\n",
              "    </tr>\n",
              "    <tr>\n",
              "      <th>3</th>\n",
              "      <td>1950</td>\n",
              "      <td>1</td>\n",
              "      <td>13</td>\n",
              "      <td>3</td>\n",
              "      <td>1</td>\n",
              "      <td>34.40</td>\n",
              "      <td>-94.37</td>\n",
              "      <td>0.6</td>\n",
              "      <td>17</td>\n",
              "      <td>1</td>\n",
              "    </tr>\n",
              "    <tr>\n",
              "      <th>4</th>\n",
              "      <td>1950</td>\n",
              "      <td>1</td>\n",
              "      <td>25</td>\n",
              "      <td>2</td>\n",
              "      <td>0</td>\n",
              "      <td>41.17</td>\n",
              "      <td>-87.33</td>\n",
              "      <td>0.1</td>\n",
              "      <td>100</td>\n",
              "      <td>0</td>\n",
              "    </tr>\n",
              "  </tbody>\n",
              "</table>\n",
              "</div>\n",
              "      <button class=\"colab-df-convert\" onclick=\"convertToInteractive('df-ddbebfb9-aeef-4290-93b5-cd54e7c42803')\"\n",
              "              title=\"Convert this dataframe to an interactive table.\"\n",
              "              style=\"display:none;\">\n",
              "        \n",
              "  <svg xmlns=\"http://www.w3.org/2000/svg\" height=\"24px\"viewBox=\"0 0 24 24\"\n",
              "       width=\"24px\">\n",
              "    <path d=\"M0 0h24v24H0V0z\" fill=\"none\"/>\n",
              "    <path d=\"M18.56 5.44l.94 2.06.94-2.06 2.06-.94-2.06-.94-.94-2.06-.94 2.06-2.06.94zm-11 1L8.5 8.5l.94-2.06 2.06-.94-2.06-.94L8.5 2.5l-.94 2.06-2.06.94zm10 10l.94 2.06.94-2.06 2.06-.94-2.06-.94-.94-2.06-.94 2.06-2.06.94z\"/><path d=\"M17.41 7.96l-1.37-1.37c-.4-.4-.92-.59-1.43-.59-.52 0-1.04.2-1.43.59L10.3 9.45l-7.72 7.72c-.78.78-.78 2.05 0 2.83L4 21.41c.39.39.9.59 1.41.59.51 0 1.02-.2 1.41-.59l7.78-7.78 2.81-2.81c.8-.78.8-2.07 0-2.86zM5.41 20L4 18.59l7.72-7.72 1.47 1.35L5.41 20z\"/>\n",
              "  </svg>\n",
              "      </button>\n",
              "      \n",
              "  <style>\n",
              "    .colab-df-container {\n",
              "      display:flex;\n",
              "      flex-wrap:wrap;\n",
              "      gap: 12px;\n",
              "    }\n",
              "\n",
              "    .colab-df-convert {\n",
              "      background-color: #E8F0FE;\n",
              "      border: none;\n",
              "      border-radius: 50%;\n",
              "      cursor: pointer;\n",
              "      display: none;\n",
              "      fill: #1967D2;\n",
              "      height: 32px;\n",
              "      padding: 0 0 0 0;\n",
              "      width: 32px;\n",
              "    }\n",
              "\n",
              "    .colab-df-convert:hover {\n",
              "      background-color: #E2EBFA;\n",
              "      box-shadow: 0px 1px 2px rgba(60, 64, 67, 0.3), 0px 1px 3px 1px rgba(60, 64, 67, 0.15);\n",
              "      fill: #174EA6;\n",
              "    }\n",
              "\n",
              "    [theme=dark] .colab-df-convert {\n",
              "      background-color: #3B4455;\n",
              "      fill: #D2E3FC;\n",
              "    }\n",
              "\n",
              "    [theme=dark] .colab-df-convert:hover {\n",
              "      background-color: #434B5C;\n",
              "      box-shadow: 0px 1px 3px 1px rgba(0, 0, 0, 0.15);\n",
              "      filter: drop-shadow(0px 1px 2px rgba(0, 0, 0, 0.3));\n",
              "      fill: #FFFFFF;\n",
              "    }\n",
              "  </style>\n",
              "\n",
              "      <script>\n",
              "        const buttonEl =\n",
              "          document.querySelector('#df-ddbebfb9-aeef-4290-93b5-cd54e7c42803 button.colab-df-convert');\n",
              "        buttonEl.style.display =\n",
              "          google.colab.kernel.accessAllowed ? 'block' : 'none';\n",
              "\n",
              "        async function convertToInteractive(key) {\n",
              "          const element = document.querySelector('#df-ddbebfb9-aeef-4290-93b5-cd54e7c42803');\n",
              "          const dataTable =\n",
              "            await google.colab.kernel.invokeFunction('convertToInteractive',\n",
              "                                                     [key], {});\n",
              "          if (!dataTable) return;\n",
              "\n",
              "          const docLinkHtml = 'Like what you see? Visit the ' +\n",
              "            '<a target=\"_blank\" href=https://colab.research.google.com/notebooks/data_table.ipynb>data table notebook</a>'\n",
              "            + ' to learn more about interactive tables.';\n",
              "          element.innerHTML = '';\n",
              "          dataTable['output_type'] = 'display_data';\n",
              "          await google.colab.output.renderOutput(dataTable, element);\n",
              "          const docLink = document.createElement('div');\n",
              "          docLink.innerHTML = docLinkHtml;\n",
              "          element.appendChild(docLink);\n",
              "        }\n",
              "      </script>\n",
              "    </div>\n",
              "  </div>\n",
              "  "
            ]
          },
          "metadata": {},
          "execution_count": 160
        }
      ]
    },
    {
      "cell_type": "code",
      "source": [
        "X = bin_data.drop('hasFatalities',axis=1)\n",
        "y = bin_data['hasFatalities']\n",
        "X_train, X_test, y_train, y_test = train_test_split(X,y,test_size=0.25, random_state=69)\n",
        "model = LogisticRegression(max_iter=1000).fit(X_train, y_train)\n",
        "y_pred = model.predict(X_test)\n",
        "accuracy_score(y_test, y_pred)"
      ],
      "metadata": {
        "colab": {
          "base_uri": "https://localhost:8080/"
        },
        "id": "6J9chcNMYY7U",
        "outputId": "15d78453-baee-449d-896f-3b767c806bad"
      },
      "execution_count": 162,
      "outputs": [
        {
          "output_type": "execute_result",
          "data": {
            "text/plain": [
              "0.9827946711273075"
            ]
          },
          "metadata": {},
          "execution_count": 162
        }
      ]
    },
    {
      "cell_type": "code",
      "source": [
        "l = model.classes_\n",
        "cm = confusion_matrix(y_test,y_pred, labels=l)\n",
        "disp = ConfusionMatrixDisplay(confusion_matrix=cm, display_labels=l)\n",
        "disp.plot()\n",
        "plt.show()"
      ],
      "metadata": {
        "colab": {
          "base_uri": "https://localhost:8080/",
          "height": 449
        },
        "id": "E9I3LX3cYapj",
        "outputId": "5328914a-d492-4b06-8540-1eee8a3f53e8"
      },
      "execution_count": 167,
      "outputs": [
        {
          "output_type": "display_data",
          "data": {
            "text/plain": [
              "<Figure size 640x480 with 2 Axes>"
            ],
            "image/png": "[encoded data removed]"
          },
          "metadata": {}
        }
      ]
    },
    {
      "cell_type": "markdown",
      "source": [
        "While our accuracy is amazing (98%!), we should probably investigate if the model is just guessing 0 because the imbalance of samples. Well over 90% of our samples have 0 fatalities. Lets take a look"
      ],
      "metadata": {
        "id": "LjY-g8HraleW"
      }
    },
    {
      "cell_type": "code",
      "source": [
        "sns.countplot(data=bin_data, x='hasFatalities')"
      ],
      "metadata": {
        "colab": {
          "base_uri": "https://localhost:8080/",
          "height": 466
        },
        "id": "ERlNjiedZ7_H",
        "outputId": "dc535cf8-122a-4925-972e-4aeb18ae039f"
      },
      "execution_count": 169,
      "outputs": [
        {
          "output_type": "execute_result",
          "data": {
            "text/plain": [
              "<Axes: xlabel='hasFatalities', ylabel='count'>"
            ]
          },
          "metadata": {},
          "execution_count": 169
        },
        {
          "output_type": "display_data",
          "data": {
            "text/plain": [
              "<Figure size 640x480 with 1 Axes>"
            ],
            "image/png": "[encoded data removed]"
          },
          "metadata": {}
        }
      ]
    },
    {
      "cell_type": "code",
      "source": [
        "no_fatalities = bin_data[bin_data['hasFatalities'] == 0]\n",
        "has_fatalities = bin_data[bin_data['hasFatalities'] != 0]\n",
        "print('# without fatalities:', len(no_fatalities))\n",
        "print('# without fatalities:', len(has_fatalities))"
      ],
      "metadata": {
        "colab": {
          "base_uri": "https://localhost:8080/"
        },
        "id": "p12SUQv1bRp1",
        "outputId": "16bad556-6217-4698-adb8-089a0aa0ee4e"
      },
      "execution_count": 171,
      "outputs": [
        {
          "output_type": "stream",
          "name": "stdout",
          "text": [
            "# without fatalities: 65394\n",
            "# without fatalities: 1559\n"
          ]
        }
      ]
    },
    {
      "cell_type": "code",
      "source": [
        "no_fatalities = no_fatalities.sample(len(has_fatalities))\n",
        "print('# without fatalities:', len(no_fatalities))\n",
        "print('# without fatalities:', len(has_fatalities))"
      ],
      "metadata": {
        "colab": {
          "base_uri": "https://localhost:8080/"
        },
        "id": "v7VxeSGxbz_r",
        "outputId": "c5027326-9480-46a1-a931-81330be1103e"
      },
      "execution_count": 172,
      "outputs": [
        {
          "output_type": "stream",
          "name": "stdout",
          "text": [
            "# without fatalities: 1559\n",
            "# without fatalities: 1559\n"
          ]
        }
      ]
    },
    {
      "cell_type": "code",
      "source": [
        "evened_data = pd.concat([no_fatalities, has_fatalities], ignore_index=True)\n",
        "sns.countplot(data=evened_data, x='hasFatalities')"
      ],
      "metadata": {
        "colab": {
          "base_uri": "https://localhost:8080/",
          "height": 466
        },
        "id": "9fMukmdNcKM3",
        "outputId": "a5f94295-3b2d-4485-b25c-40c9dc7a96f2"
      },
      "execution_count": 179,
      "outputs": [
        {
          "output_type": "execute_result",
          "data": {
            "text/plain": [
              "<Axes: xlabel='hasFatalities', ylabel='count'>"
            ]
          },
          "metadata": {},
          "execution_count": 179
        },
        {
          "output_type": "display_data",
          "data": {
            "text/plain": [
              "<Figure size 640x480 with 1 Axes>"
            ],
            "image/png": "[encoded data removed]"
          },
          "metadata": {}
        }
      ]
    },
    {
      "cell_type": "code",
      "source": [
        "X = evened_data.drop('hasFatalities',axis=1)\n",
        "y = evened_data['hasFatalities']\n",
        "X_train, X_test, y_train, y_test = train_test_split(X,y,test_size=0.25, random_state=69)\n",
        "model = LogisticRegression(max_iter=1000).fit(X_train, y_train)\n",
        "y_pred = model.predict(X_test)\n",
        "print(accuracy_score(y_test, y_pred)*100)\n",
        "l = model.classes_\n",
        "cm = confusion_matrix(y_test,y_pred, labels=l)\n",
        "disp = ConfusionMatrixDisplay(confusion_matrix=cm, display_labels=l)\n",
        "disp.plot()\n",
        "plt.show()"
      ],
      "metadata": {
        "colab": {
          "base_uri": "https://localhost:8080/",
          "height": 470
        },
        "id": "FxbwLw7ZcY-n",
        "outputId": "b242b2b8-29f8-4613-e20b-9f1c1074343e"
      },
      "execution_count": 178,
      "outputs": [
        {
          "output_type": "stream",
          "name": "stdout",
          "text": [
            "87.6923076923077\n"
          ]
        },
        {
          "output_type": "display_data",
          "data": {
            "text/plain": [
              "<Figure size 640x480 with 2 Axes>"
            ],
            "image/png": "[encoded data removed]"
          },
          "metadata": {}
        }
      ]
    },
    {
      "cell_type": "markdown",
      "source": [
        "Now that's a model we can be proud of! 87.7% accuracy after evening the data does show that our initial model was heavily biased by our input data. Lets see which features were most important!"
      ],
      "metadata": {
        "id": "tIX4Hk5sc7GG"
      }
    },
    {
      "cell_type": "code",
      "source": [
        "col = X.columns\n",
        "features = sorted(list(enumerate(model.coef_[0])), key=lambda x:x[1], reverse=True)\n",
        "for i,v in features:\n",
        " print('Feature: %s, Score: %.5f' % (col[i],v))"
      ],
      "metadata": {
        "colab": {
          "base_uri": "https://localhost:8080/"
        },
        "id": "F8Udi6joc1NU",
        "outputId": "be577c56-4c5e-4bb0-fc2c-b9029ec6d3cd"
      },
      "execution_count": 185,
      "outputs": [
        {
          "output_type": "stream",
          "name": "stdout",
          "text": [
            "Feature: magnitude, Score: 1.26949\n",
            "Feature: injuries, Score: 0.16346\n",
            "Feature: slon, Score: 0.03108\n",
            "Feature: len, Score: 0.01895\n",
            "Feature: day, Score: 0.00720\n",
            "Feature: year, Score: 0.00083\n",
            "Feature: wid, Score: -0.00009\n",
            "Feature: month, Score: -0.02120\n",
            "Feature: slat, Score: -0.04652\n"
          ]
        }
      ]
    },
    {
      "cell_type": "markdown",
      "source": [
        "Wow! Our original guess of 'Magnitude' being the most important was correct in this case. Lets trim the less useful features and see if we can improve the scores."
      ],
      "metadata": {
        "id": "Cq3266WJeC0a"
      }
    },
    {
      "cell_type": "code",
      "source": [
        "X = evened_data.drop(['hasFatalities','slat','month','wid'],axis=1)\n",
        "y = evened_data['hasFatalities']\n",
        "X_train, X_test, y_train, y_test = train_test_split(X,y,test_size=0.25, random_state=69)\n",
        "model = LogisticRegression(max_iter=1000).fit(X_train, y_train)\n",
        "y_pred = model.predict(X_test)\n",
        "print(accuracy_score(y_test, y_pred)*100)\n",
        "l = model.classes_\n",
        "cm = confusion_matrix(y_test,y_pred, labels=l)\n",
        "disp = ConfusionMatrixDisplay(confusion_matrix=cm, display_labels=l)\n",
        "disp.plot()\n",
        "plt.show()"
      ],
      "metadata": {
        "colab": {
          "base_uri": "https://localhost:8080/",
          "height": 466
        },
        "id": "zYSHoQf0dkmE",
        "outputId": "d862e1ee-7b7c-49da-c36b-890f35dd8924"
      },
      "execution_count": 187,
      "outputs": [
        {
          "output_type": "stream",
          "name": "stdout",
          "text": [
            "87.82051282051282\n"
          ]
        },
        {
          "output_type": "display_data",
          "data": {
            "text/plain": [
              "<Figure size 640x480 with 2 Axes>"
            ],
            "image/png": "[encoded data removed]"
          },
          "metadata": {}
        }
      ]
    },
    {
      "cell_type": "markdown",
      "source": [
        "Not a meaningful increase in accuracy but the calculates will be much easier to perform because our model is so lean."
      ],
      "metadata": {
        "id": "E0Os8SFieohs"
      }
    },
    {
      "cell_type": "markdown",
      "source": [
        "# Conclusion"
      ],
      "metadata": {
        "id": "czYBm8IIeoni"
      }
    },
    {
      "cell_type": "markdown",
      "source": [
        "In this project we explored our preprocessed data to find some meaningful connections to the number of fatalities. We made a guess that the magnitude of the tornado would have the strongest correlation to the number of fatalities, and when we created our linear regression model we found that not to be the case. For that problem the best performing feature was injuries, which makes sense given our real-world understanding of the problem. The amount of loss was quite large and feature selection proved to not meaningfully improve our metric. We decided to change the problem we were solving, and instead attempt to predict if a given tornado would have any fatalities, as opposed to trying to guess the number. By doing this, we created a binary classification problem and could fit a Logistic Regression model to this data. After our model scored a suprising 98%, we realized that model is probably biased to just guessing No. After reexamining our data, we equalized the samples that the model would be trained on, and still managed to score almost 88% on our accuracy. "
      ],
      "metadata": {
        "id": "FSzS7W-Ye6x_"
      }
    }
  ]
}